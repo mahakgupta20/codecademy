{
 "cells": [
  {
   "cell_type": "code",
   "execution_count": 79,
   "metadata": {},
   "outputs": [],
   "source": [
    "import requests\n",
    "from bs4 import BeautifulSoup\n",
    "import pandas as pd\n",
    "\n"
   ]
  },
  {
   "cell_type": "code",
   "execution_count": 80,
   "metadata": {},
   "outputs": [],
   "source": [
    "prefix = \"https://s3.amazonaws.com/codecademy-content/courses/beautifulsoup/\"\n",
    "webpage_response = requests.get('https://s3.amazonaws.com/codecademy-content/courses/beautifulsoup/shellter.html')\n",
    "\n",
    "webpage = webpage_response.content\n",
    "soup = BeautifulSoup(webpage, \"html.parser\")\n",
    "\n"
   ]
  },
  {
   "cell_type": "code",
   "execution_count": 81,
   "metadata": {},
   "outputs": [],
   "source": [
    "turtle_links = soup.find_all(\"a\")\n",
    "links = []\n",
    "#go through all of the a tags and get the links associated with them\"\n",
    "for a in turtle_links:\n",
    "    links.append(prefix+a[\"href\"])\n",
    "    \n"
   ]
  },
  {
   "cell_type": "code",
   "execution_count": 82,
   "metadata": {},
   "outputs": [],
   "source": [
    "#Define turtle_data:\n",
    "turtle_data = {}\n",
    "#follow each link:\n",
    "for link in links:\n",
    "  webpage = requests.get(link)\n",
    "  turtle = BeautifulSoup(webpage.content, \"html.parser\")\n",
    "  turtle_name = turtle.select(\".name\")[0].get_text()\n",
    "  \n",
    "  stats = turtle.find(\"ul\")\n",
    "  stats_text = stats.get_text(\"|\")\n",
    "  turtle_data[turtle_name] = stats_text.split(\"|\")\n",
    "  \n",
    "\n"
   ]
  },
  {
   "cell_type": "code",
   "execution_count": 83,
   "metadata": {},
   "outputs": [
    {
     "name": "stdout",
     "output_type": "stream",
     "text": [
      "        0                 1   2              3   4            5   6   \\\n",
      "Aesop   \\n  AGE: 7 Years Old  \\n  WEIGHT: 6 lbs  \\n  SEX: Female  \\n   \n",
      "Caesar  \\n  AGE: 2 Years Old  \\n  WEIGHT: 4 lbs  \\n    SEX: Male  \\n   \n",
      "Sulla   \\n   AGE: 1 Year Old  \\n   WEIGHT: 1 lb  \\n    SEX: Male  \\n   \n",
      "Spyro   \\n  AGE: 6 Years Old  \\n  WEIGHT: 3 lbs  \\n  SEX: Female  \\n   \n",
      "Zelda   \\n  AGE: 3 Years Old  \\n  WEIGHT: 2 lbs  \\n  SEX: Female  \\n   \n",
      "\n",
      "                                            7   8   \\\n",
      "Aesop   BREED: African Aquatic Sideneck Turtle  \\n   \n",
      "Caesar                   BREED: Greek Tortoise  \\n   \n",
      "Sulla   BREED: African Aquatic Sideneck Turtle  \\n   \n",
      "Spyro                    BREED: Greek Tortoise  \\n   \n",
      "Zelda                BREED: Eastern Box Turtle  \\n   \n",
      "\n",
      "                                  9   10  \n",
      "Aesop     SOURCE: found in Lake Erie  \\n  \n",
      "Caesar      SOURCE: hatched in house  \\n  \n",
      "Sulla     SOURCE: found in Lake Erie  \\n  \n",
      "Spyro       SOURCE: hatched in house  \\n  \n",
      "Zelda   SOURCE: surrendered by owner  \\n  \n",
      "RangeIndex(start=0, stop=11, step=1)\n",
      "0     object\n",
      "1     object\n",
      "2     object\n",
      "3     object\n",
      "4     object\n",
      "5     object\n",
      "6     object\n",
      "7     object\n",
      "8     object\n",
      "9     object\n",
      "10    object\n",
      "dtype: object\n",
      "         0                 1   2              3   4            5   6  \\\n",
      "Aesop   \\n  AGE: 7 Years Old  \\n  WEIGHT: 6 lbs  \\n  SEX: Female  \\n   \n",
      "Caesar  \\n  AGE: 2 Years Old  \\n  WEIGHT: 4 lbs  \\n    SEX: Male  \\n   \n",
      "Sulla   \\n   AGE: 1 Year Old  \\n   WEIGHT: 1 lb  \\n    SEX: Male  \\n   \n",
      "Spyro   \\n  AGE: 6 Years Old  \\n  WEIGHT: 3 lbs  \\n  SEX: Female  \\n   \n",
      "Zelda   \\n  AGE: 3 Years Old  \\n  WEIGHT: 2 lbs  \\n  SEX: Female  \\n   \n",
      "\n",
      "                                             7   8  \\\n",
      "Aesop   BREED: African Aquatic Sideneck Turtle  \\n   \n",
      "Caesar                   BREED: Greek Tortoise  \\n   \n",
      "Sulla   BREED: African Aquatic Sideneck Turtle  \\n   \n",
      "Spyro                    BREED: Greek Tortoise  \\n   \n",
      "Zelda                BREED: Eastern Box Turtle  \\n   \n",
      "\n",
      "                                   9  \n",
      "Aesop     SOURCE: found in Lake Erie  \n",
      "Caesar      SOURCE: hatched in house  \n",
      "Sulla     SOURCE: found in Lake Erie  \n",
      "Spyro       SOURCE: hatched in house  \n",
      "Zelda   SOURCE: surrendered by owner  \n"
     ]
    }
   ],
   "source": [
    "turtle_df = pd.DataFrame.from_dict(turtle_data,orient =\"index\")\n",
    "print(turtle_df.head())\n",
    "print(turtle_df.columns)\n",
    "print(turtle_df.dtypes)\n",
    "turtle_df = turtle_df.drop(turtle_df.columns[-1], axis=1)\n",
    "\n",
    "print(turtle_df.head())\n"
   ]
  },
  {
   "cell_type": "code",
   "execution_count": 84,
   "metadata": {},
   "outputs": [
    {
     "name": "stdout",
     "output_type": "stream",
     "text": [
      "         0                 1   2              3   4            5   6  \\\n",
      "Aesop   \\n  AGE: 7 Years Old  \\n  WEIGHT: 6 lbs  \\n  SEX: Female  \\n   \n",
      "Caesar  \\n  AGE: 2 Years Old  \\n  WEIGHT: 4 lbs  \\n    SEX: Male  \\n   \n",
      "Sulla   \\n   AGE: 1 Year Old  \\n   WEIGHT: 1 lb  \\n    SEX: Male  \\n   \n",
      "Spyro   \\n  AGE: 6 Years Old  \\n  WEIGHT: 3 lbs  \\n  SEX: Female  \\n   \n",
      "Zelda   \\n  AGE: 3 Years Old  \\n  WEIGHT: 2 lbs  \\n  SEX: Female  \\n   \n",
      "\n",
      "                                             7                             9  \n",
      "Aesop   BREED: African Aquatic Sideneck Turtle    SOURCE: found in Lake Erie  \n",
      "Caesar                   BREED: Greek Tortoise      SOURCE: hatched in house  \n",
      "Sulla   BREED: African Aquatic Sideneck Turtle    SOURCE: found in Lake Erie  \n",
      "Spyro                    BREED: Greek Tortoise      SOURCE: hatched in house  \n",
      "Zelda                BREED: Eastern Box Turtle  SOURCE: surrendered by owner  \n",
      "0    object\n",
      "1    object\n",
      "2    object\n",
      "3    object\n",
      "4    object\n",
      "5    object\n",
      "6    object\n",
      "7    object\n",
      "9    object\n",
      "dtype: object\n"
     ]
    }
   ],
   "source": [
    "\n",
    "turtle_df2 = turtle_df.drop(turtle_df.columns[8],axis=1)\n",
    "\n",
    "print(turtle_df2.head())\n",
    "print(turtle_df2.dtypes)\n",
    "\n"
   ]
  },
  {
   "cell_type": "code",
   "execution_count": 85,
   "metadata": {},
   "outputs": [
    {
     "name": "stdout",
     "output_type": "stream",
     "text": [
      "                       1   2              3   4            5   6  \\\n",
      "Aesop   AGE: 7 Years Old  \\n  WEIGHT: 6 lbs  \\n  SEX: Female  \\n   \n",
      "Caesar  AGE: 2 Years Old  \\n  WEIGHT: 4 lbs  \\n    SEX: Male  \\n   \n",
      "Sulla    AGE: 1 Year Old  \\n   WEIGHT: 1 lb  \\n    SEX: Male  \\n   \n",
      "Spyro   AGE: 6 Years Old  \\n  WEIGHT: 3 lbs  \\n  SEX: Female  \\n   \n",
      "Zelda   AGE: 3 Years Old  \\n  WEIGHT: 2 lbs  \\n  SEX: Female  \\n   \n",
      "\n",
      "                                             7                             9  \n",
      "Aesop   BREED: African Aquatic Sideneck Turtle    SOURCE: found in Lake Erie  \n",
      "Caesar                   BREED: Greek Tortoise      SOURCE: hatched in house  \n",
      "Sulla   BREED: African Aquatic Sideneck Turtle    SOURCE: found in Lake Erie  \n",
      "Spyro                    BREED: Greek Tortoise      SOURCE: hatched in house  \n",
      "Zelda                BREED: Eastern Box Turtle  SOURCE: surrendered by owner  \n"
     ]
    }
   ],
   "source": [
    "turtle_df3 = turtle_df2.drop(turtle_df2.columns[0],axis=1)\n",
    "pd.set_option('display.max_columns', None)\n",
    "\n",
    "print(turtle_df3.head())\n"
   ]
  },
  {
   "cell_type": "code",
   "execution_count": 86,
   "metadata": {},
   "outputs": [
    {
     "name": "stdout",
     "output_type": "stream",
     "text": [
      "    index                 1              3   4            5   6  \\\n",
      "0   Aesop  AGE: 7 Years Old  WEIGHT: 6 lbs  \\n  SEX: Female  \\n   \n",
      "1  Caesar  AGE: 2 Years Old  WEIGHT: 4 lbs  \\n    SEX: Male  \\n   \n",
      "2   Sulla   AGE: 1 Year Old   WEIGHT: 1 lb  \\n    SEX: Male  \\n   \n",
      "3   Spyro  AGE: 6 Years Old  WEIGHT: 3 lbs  \\n  SEX: Female  \\n   \n",
      "4   Zelda  AGE: 3 Years Old  WEIGHT: 2 lbs  \\n  SEX: Female  \\n   \n",
      "\n",
      "                                        7                             9  \n",
      "0  BREED: African Aquatic Sideneck Turtle    SOURCE: found in Lake Erie  \n",
      "1                   BREED: Greek Tortoise      SOURCE: hatched in house  \n",
      "2  BREED: African Aquatic Sideneck Turtle    SOURCE: found in Lake Erie  \n",
      "3                   BREED: Greek Tortoise      SOURCE: hatched in house  \n",
      "4               BREED: Eastern Box Turtle  SOURCE: surrendered by owner  \n"
     ]
    }
   ],
   "source": [
    "turtle_df4 = turtle_df3.drop(turtle_df3.columns[1],axis=1).reset_index()\n",
    "\n",
    "print(turtle_df4.head())\n",
    "\n"
   ]
  },
  {
   "cell_type": "code",
   "execution_count": 87,
   "metadata": {},
   "outputs": [
    {
     "name": "stdout",
     "output_type": "stream",
     "text": [
      "    index                 1              3            5   6  \\\n",
      "0   Aesop  AGE: 7 Years Old  WEIGHT: 6 lbs  SEX: Female  \\n   \n",
      "1  Caesar  AGE: 2 Years Old  WEIGHT: 4 lbs    SEX: Male  \\n   \n",
      "2   Sulla   AGE: 1 Year Old   WEIGHT: 1 lb    SEX: Male  \\n   \n",
      "3   Spyro  AGE: 6 Years Old  WEIGHT: 3 lbs  SEX: Female  \\n   \n",
      "4   Zelda  AGE: 3 Years Old  WEIGHT: 2 lbs  SEX: Female  \\n   \n",
      "\n",
      "                                        7                             9  \n",
      "0  BREED: African Aquatic Sideneck Turtle    SOURCE: found in Lake Erie  \n",
      "1                   BREED: Greek Tortoise      SOURCE: hatched in house  \n",
      "2  BREED: African Aquatic Sideneck Turtle    SOURCE: found in Lake Erie  \n",
      "3                   BREED: Greek Tortoise      SOURCE: hatched in house  \n",
      "4               BREED: Eastern Box Turtle  SOURCE: surrendered by owner  \n"
     ]
    }
   ],
   "source": [
    "turtle_df5 = turtle_df4.drop(turtle_df4.columns[3],axis=1)\n",
    "print(turtle_df5.head())\n",
    "\n"
   ]
  },
  {
   "cell_type": "code",
   "execution_count": 88,
   "metadata": {},
   "outputs": [
    {
     "name": "stdout",
     "output_type": "stream",
     "text": [
      "    index                 1              3            5  \\\n",
      "0   Aesop  AGE: 7 Years Old  WEIGHT: 6 lbs  SEX: Female   \n",
      "1  Caesar  AGE: 2 Years Old  WEIGHT: 4 lbs    SEX: Male   \n",
      "2   Sulla   AGE: 1 Year Old   WEIGHT: 1 lb    SEX: Male   \n",
      "3   Spyro  AGE: 6 Years Old  WEIGHT: 3 lbs  SEX: Female   \n",
      "4   Zelda  AGE: 3 Years Old  WEIGHT: 2 lbs  SEX: Female   \n",
      "\n",
      "                                        7                             9  \n",
      "0  BREED: African Aquatic Sideneck Turtle    SOURCE: found in Lake Erie  \n",
      "1                   BREED: Greek Tortoise      SOURCE: hatched in house  \n",
      "2  BREED: African Aquatic Sideneck Turtle    SOURCE: found in Lake Erie  \n",
      "3                   BREED: Greek Tortoise      SOURCE: hatched in house  \n",
      "4               BREED: Eastern Box Turtle  SOURCE: surrendered by owner  \n",
      "       index                   1                3            5  \\\n",
      "0      Aesop    AGE: 7 Years Old    WEIGHT: 6 lbs  SEX: Female   \n",
      "1     Caesar    AGE: 2 Years Old    WEIGHT: 4 lbs    SEX: Male   \n",
      "2      Sulla     AGE: 1 Year Old     WEIGHT: 1 lb    SEX: Male   \n",
      "3      Spyro    AGE: 6 Years Old    WEIGHT: 3 lbs  SEX: Female   \n",
      "4      Zelda    AGE: 3 Years Old    WEIGHT: 2 lbs  SEX: Female   \n",
      "5  Bandicoot    AGE: 2 Years Old    WEIGHT: 2 lbs    SEX: Male   \n",
      "6        Hal     AGE: 1 Year Old  WEIGHT: 1.5 lbs  SEX: Female   \n",
      "7       Mock   AGE: 10 Years Old   WEIGHT: 10 lbs    SEX: Male   \n",
      "8    Sparrow  AGE: 1.5 Years Old  WEIGHT: 4.5 lbs  SEX: Female   \n",
      "\n",
      "                                        7                             9  \n",
      "0  BREED: African Aquatic Sideneck Turtle    SOURCE: found in Lake Erie  \n",
      "1                   BREED: Greek Tortoise      SOURCE: hatched in house  \n",
      "2  BREED: African Aquatic Sideneck Turtle    SOURCE: found in Lake Erie  \n",
      "3                   BREED: Greek Tortoise      SOURCE: hatched in house  \n",
      "4               BREED: Eastern Box Turtle  SOURCE: surrendered by owner  \n",
      "5  BREED: African Aquatic Sideneck Turtle      SOURCE: hatched in house  \n",
      "6               BREED: Eastern Box Turtle  SOURCE: surrendered by owner  \n",
      "7                   BREED: Greek Tortoise  SOURCE: surrendered by owner  \n",
      "8  BREED: African Aquatic Sideneck Turtle    SOURCE: found in Lake Erie  \n"
     ]
    }
   ],
   "source": [
    "turtle_df6 = turtle_df5.drop(turtle_df5.columns[4],axis=1)\n",
    "print(turtle_df6.head())\n",
    "\n",
    "final_df = turtle_df6\n",
    "print(final_df)\n",
    "\n"
   ]
  },
  {
   "cell_type": "code",
   "execution_count": 89,
   "metadata": {},
   "outputs": [
    {
     "name": "stdout",
     "output_type": "stream",
     "text": [
      "        name                 age           weight          sex  \\\n",
      "0      Aesop    AGE: 7 Years Old    WEIGHT: 6 lbs  SEX: Female   \n",
      "1     Caesar    AGE: 2 Years Old    WEIGHT: 4 lbs    SEX: Male   \n",
      "2      Sulla     AGE: 1 Year Old     WEIGHT: 1 lb    SEX: Male   \n",
      "3      Spyro    AGE: 6 Years Old    WEIGHT: 3 lbs  SEX: Female   \n",
      "4      Zelda    AGE: 3 Years Old    WEIGHT: 2 lbs  SEX: Female   \n",
      "5  Bandicoot    AGE: 2 Years Old    WEIGHT: 2 lbs    SEX: Male   \n",
      "6        Hal     AGE: 1 Year Old  WEIGHT: 1.5 lbs  SEX: Female   \n",
      "7       Mock   AGE: 10 Years Old   WEIGHT: 10 lbs    SEX: Male   \n",
      "8    Sparrow  AGE: 1.5 Years Old  WEIGHT: 4.5 lbs  SEX: Female   \n",
      "\n",
      "                                    breed                        source  \n",
      "0  BREED: African Aquatic Sideneck Turtle    SOURCE: found in Lake Erie  \n",
      "1                   BREED: Greek Tortoise      SOURCE: hatched in house  \n",
      "2  BREED: African Aquatic Sideneck Turtle    SOURCE: found in Lake Erie  \n",
      "3                   BREED: Greek Tortoise      SOURCE: hatched in house  \n",
      "4               BREED: Eastern Box Turtle  SOURCE: surrendered by owner  \n",
      "5  BREED: African Aquatic Sideneck Turtle      SOURCE: hatched in house  \n",
      "6               BREED: Eastern Box Turtle  SOURCE: surrendered by owner  \n",
      "7                   BREED: Greek Tortoise  SOURCE: surrendered by owner  \n",
      "8  BREED: African Aquatic Sideneck Turtle    SOURCE: found in Lake Erie  \n"
     ]
    }
   ],
   "source": [
    "final_df.columns= ['name','age','weight','sex','breed','source']\n",
    "print(final_df)\n"
   ]
  },
  {
   "cell_type": "code",
   "execution_count": 90,
   "metadata": {},
   "outputs": [
    {
     "name": "stdout",
     "output_type": "stream",
     "text": [
      "     0               1\n",
      "0  AGE     7 Years Old\n",
      "1  AGE     2 Years Old\n",
      "2  AGE      1 Year Old\n",
      "3  AGE     6 Years Old\n",
      "4  AGE     3 Years Old\n",
      "5  AGE     2 Years Old\n",
      "6  AGE      1 Year Old\n",
      "7  AGE    10 Years Old\n",
      "8  AGE   1.5 Years Old\n"
     ]
    }
   ],
   "source": [
    "age_split_df = final_df['age'].str.split(':', expand=True)\n",
    "print(age_split_df)\n"
   ]
  },
  {
   "cell_type": "code",
   "execution_count": 91,
   "metadata": {},
   "outputs": [
    {
     "name": "stdout",
     "output_type": "stream",
     "text": [
      "  0  1    2  3      4  5    6\n",
      "0         7     Years     Old\n",
      "1         2     Years     Old\n",
      "2         1      Year     Old\n",
      "3         6     Years     Old\n",
      "4         3     Years     Old\n",
      "5         2     Years     Old\n",
      "6         1      Year     Old\n",
      "7        10     Years     Old\n",
      "8       1.5     Years     Old\n"
     ]
    },
    {
     "data": {
      "text/plain": [
       "0     7.0\n",
       "1     2.0\n",
       "2     1.0\n",
       "3     6.0\n",
       "4     3.0\n",
       "5     2.0\n",
       "6     1.0\n",
       "7    10.0\n",
       "8     1.5\n",
       "Name: 2, dtype: float64"
      ]
     },
     "execution_count": 91,
     "metadata": {},
     "output_type": "execute_result"
    }
   ],
   "source": [
    "age_split_2 = age_split_df.get(1).str.split('(\\s)', expand = True)\n",
    "print(age_split_2)\n",
    "\n",
    "age_split_2 = pd.to_numeric(age_split_2.get(2))\n",
    "age_split_2\n",
    "\n"
   ]
  },
  {
   "cell_type": "code",
   "execution_count": 92,
   "metadata": {},
   "outputs": [
    {
     "name": "stdout",
     "output_type": "stream",
     "text": [
      "        name   age           weight          sex  \\\n",
      "0      Aesop   7.0    WEIGHT: 6 lbs  SEX: Female   \n",
      "1     Caesar   2.0    WEIGHT: 4 lbs    SEX: Male   \n",
      "2      Sulla   1.0     WEIGHT: 1 lb    SEX: Male   \n",
      "3      Spyro   6.0    WEIGHT: 3 lbs  SEX: Female   \n",
      "4      Zelda   3.0    WEIGHT: 2 lbs  SEX: Female   \n",
      "5  Bandicoot   2.0    WEIGHT: 2 lbs    SEX: Male   \n",
      "6        Hal   1.0  WEIGHT: 1.5 lbs  SEX: Female   \n",
      "7       Mock  10.0   WEIGHT: 10 lbs    SEX: Male   \n",
      "8    Sparrow   1.5  WEIGHT: 4.5 lbs  SEX: Female   \n",
      "\n",
      "                                    breed                        source  \n",
      "0  BREED: African Aquatic Sideneck Turtle    SOURCE: found in Lake Erie  \n",
      "1                   BREED: Greek Tortoise      SOURCE: hatched in house  \n",
      "2  BREED: African Aquatic Sideneck Turtle    SOURCE: found in Lake Erie  \n",
      "3                   BREED: Greek Tortoise      SOURCE: hatched in house  \n",
      "4               BREED: Eastern Box Turtle  SOURCE: surrendered by owner  \n",
      "5  BREED: African Aquatic Sideneck Turtle      SOURCE: hatched in house  \n",
      "6               BREED: Eastern Box Turtle  SOURCE: surrendered by owner  \n",
      "7                   BREED: Greek Tortoise  SOURCE: surrendered by owner  \n",
      "8  BREED: African Aquatic Sideneck Turtle    SOURCE: found in Lake Erie  \n"
     ]
    }
   ],
   "source": [
    "final_df['age'] = age_split_2\n",
    "print(final_df)\n",
    "\n"
   ]
  },
  {
   "cell_type": "code",
   "execution_count": 93,
   "metadata": {},
   "outputs": [
    {
     "name": "stdout",
     "output_type": "stream",
     "text": [
      "        0         1\n",
      "0  WEIGHT     6 lbs\n",
      "1  WEIGHT     4 lbs\n",
      "2  WEIGHT      1 lb\n",
      "3  WEIGHT     3 lbs\n",
      "4  WEIGHT     2 lbs\n",
      "5  WEIGHT     2 lbs\n",
      "6  WEIGHT   1.5 lbs\n",
      "7  WEIGHT    10 lbs\n",
      "8  WEIGHT   4.5 lbs\n"
     ]
    }
   ],
   "source": [
    "wt_split_df = final_df['weight'].str.split(':', expand=True)\n",
    "print(wt_split_df)\n"
   ]
  },
  {
   "cell_type": "code",
   "execution_count": 94,
   "metadata": {},
   "outputs": [
    {
     "name": "stdout",
     "output_type": "stream",
     "text": [
      "  0  1    2  3    4\n",
      "0         6     lbs\n",
      "1         4     lbs\n",
      "2         1      lb\n",
      "3         3     lbs\n",
      "4         2     lbs\n",
      "5         2     lbs\n",
      "6       1.5     lbs\n",
      "7        10     lbs\n",
      "8       4.5     lbs\n"
     ]
    }
   ],
   "source": [
    "wt_split_2 = wt_split_df.get(1).str.split('(\\s)', expand = True)\n",
    "print(wt_split_2)\n",
    "\n"
   ]
  },
  {
   "cell_type": "code",
   "execution_count": 95,
   "metadata": {},
   "outputs": [
    {
     "data": {
      "text/html": [
       "<div>\n",
       "<style scoped>\n",
       "    .dataframe tbody tr th:only-of-type {\n",
       "        vertical-align: middle;\n",
       "    }\n",
       "\n",
       "    .dataframe tbody tr th {\n",
       "        vertical-align: top;\n",
       "    }\n",
       "\n",
       "    .dataframe thead th {\n",
       "        text-align: right;\n",
       "    }\n",
       "</style>\n",
       "<table border=\"1\" class=\"dataframe\">\n",
       "  <thead>\n",
       "    <tr style=\"text-align: right;\">\n",
       "      <th></th>\n",
       "      <th>name</th>\n",
       "      <th>age</th>\n",
       "      <th>weight</th>\n",
       "      <th>sex</th>\n",
       "      <th>breed</th>\n",
       "      <th>source</th>\n",
       "    </tr>\n",
       "  </thead>\n",
       "  <tbody>\n",
       "    <tr>\n",
       "      <th>0</th>\n",
       "      <td>Aesop</td>\n",
       "      <td>7.0</td>\n",
       "      <td>6.0</td>\n",
       "      <td>SEX: Female</td>\n",
       "      <td>BREED: African Aquatic Sideneck Turtle</td>\n",
       "      <td>SOURCE: found in Lake Erie</td>\n",
       "    </tr>\n",
       "    <tr>\n",
       "      <th>1</th>\n",
       "      <td>Caesar</td>\n",
       "      <td>2.0</td>\n",
       "      <td>4.0</td>\n",
       "      <td>SEX: Male</td>\n",
       "      <td>BREED: Greek Tortoise</td>\n",
       "      <td>SOURCE: hatched in house</td>\n",
       "    </tr>\n",
       "    <tr>\n",
       "      <th>2</th>\n",
       "      <td>Sulla</td>\n",
       "      <td>1.0</td>\n",
       "      <td>1.0</td>\n",
       "      <td>SEX: Male</td>\n",
       "      <td>BREED: African Aquatic Sideneck Turtle</td>\n",
       "      <td>SOURCE: found in Lake Erie</td>\n",
       "    </tr>\n",
       "    <tr>\n",
       "      <th>3</th>\n",
       "      <td>Spyro</td>\n",
       "      <td>6.0</td>\n",
       "      <td>3.0</td>\n",
       "      <td>SEX: Female</td>\n",
       "      <td>BREED: Greek Tortoise</td>\n",
       "      <td>SOURCE: hatched in house</td>\n",
       "    </tr>\n",
       "    <tr>\n",
       "      <th>4</th>\n",
       "      <td>Zelda</td>\n",
       "      <td>3.0</td>\n",
       "      <td>2.0</td>\n",
       "      <td>SEX: Female</td>\n",
       "      <td>BREED: Eastern Box Turtle</td>\n",
       "      <td>SOURCE: surrendered by owner</td>\n",
       "    </tr>\n",
       "    <tr>\n",
       "      <th>5</th>\n",
       "      <td>Bandicoot</td>\n",
       "      <td>2.0</td>\n",
       "      <td>2.0</td>\n",
       "      <td>SEX: Male</td>\n",
       "      <td>BREED: African Aquatic Sideneck Turtle</td>\n",
       "      <td>SOURCE: hatched in house</td>\n",
       "    </tr>\n",
       "    <tr>\n",
       "      <th>6</th>\n",
       "      <td>Hal</td>\n",
       "      <td>1.0</td>\n",
       "      <td>1.5</td>\n",
       "      <td>SEX: Female</td>\n",
       "      <td>BREED: Eastern Box Turtle</td>\n",
       "      <td>SOURCE: surrendered by owner</td>\n",
       "    </tr>\n",
       "    <tr>\n",
       "      <th>7</th>\n",
       "      <td>Mock</td>\n",
       "      <td>10.0</td>\n",
       "      <td>10.0</td>\n",
       "      <td>SEX: Male</td>\n",
       "      <td>BREED: Greek Tortoise</td>\n",
       "      <td>SOURCE: surrendered by owner</td>\n",
       "    </tr>\n",
       "    <tr>\n",
       "      <th>8</th>\n",
       "      <td>Sparrow</td>\n",
       "      <td>1.5</td>\n",
       "      <td>4.5</td>\n",
       "      <td>SEX: Female</td>\n",
       "      <td>BREED: African Aquatic Sideneck Turtle</td>\n",
       "      <td>SOURCE: found in Lake Erie</td>\n",
       "    </tr>\n",
       "  </tbody>\n",
       "</table>\n",
       "</div>"
      ],
      "text/plain": [
       "        name   age  weight          sex  \\\n",
       "0      Aesop   7.0     6.0  SEX: Female   \n",
       "1     Caesar   2.0     4.0    SEX: Male   \n",
       "2      Sulla   1.0     1.0    SEX: Male   \n",
       "3      Spyro   6.0     3.0  SEX: Female   \n",
       "4      Zelda   3.0     2.0  SEX: Female   \n",
       "5  Bandicoot   2.0     2.0    SEX: Male   \n",
       "6        Hal   1.0     1.5  SEX: Female   \n",
       "7       Mock  10.0    10.0    SEX: Male   \n",
       "8    Sparrow   1.5     4.5  SEX: Female   \n",
       "\n",
       "                                    breed                        source  \n",
       "0  BREED: African Aquatic Sideneck Turtle    SOURCE: found in Lake Erie  \n",
       "1                   BREED: Greek Tortoise      SOURCE: hatched in house  \n",
       "2  BREED: African Aquatic Sideneck Turtle    SOURCE: found in Lake Erie  \n",
       "3                   BREED: Greek Tortoise      SOURCE: hatched in house  \n",
       "4               BREED: Eastern Box Turtle  SOURCE: surrendered by owner  \n",
       "5  BREED: African Aquatic Sideneck Turtle      SOURCE: hatched in house  \n",
       "6               BREED: Eastern Box Turtle  SOURCE: surrendered by owner  \n",
       "7                   BREED: Greek Tortoise  SOURCE: surrendered by owner  \n",
       "8  BREED: African Aquatic Sideneck Turtle    SOURCE: found in Lake Erie  "
      ]
     },
     "execution_count": 95,
     "metadata": {},
     "output_type": "execute_result"
    }
   ],
   "source": [
    "\n",
    "final_df['weight'] = pd.to_numeric(wt_split_2.get(2))\n",
    "final_df"
   ]
  },
  {
   "cell_type": "code",
   "execution_count": 96,
   "metadata": {},
   "outputs": [
    {
     "name": "stdout",
     "output_type": "stream",
     "text": [
      "     0        1\n",
      "0  SEX   Female\n",
      "1  SEX     Male\n",
      "2  SEX     Male\n",
      "3  SEX   Female\n",
      "4  SEX   Female\n",
      "5  SEX     Male\n",
      "6  SEX   Female\n",
      "7  SEX     Male\n",
      "8  SEX   Female\n",
      "       0                                 1\n",
      "0  BREED   African Aquatic Sideneck Turtle\n",
      "1  BREED                    Greek Tortoise\n",
      "2  BREED   African Aquatic Sideneck Turtle\n",
      "3  BREED                    Greek Tortoise\n",
      "4  BREED                Eastern Box Turtle\n",
      "5  BREED   African Aquatic Sideneck Turtle\n",
      "6  BREED                Eastern Box Turtle\n",
      "7  BREED                    Greek Tortoise\n",
      "8  BREED   African Aquatic Sideneck Turtle\n"
     ]
    },
    {
     "data": {
      "text/html": [
       "<div>\n",
       "<style scoped>\n",
       "    .dataframe tbody tr th:only-of-type {\n",
       "        vertical-align: middle;\n",
       "    }\n",
       "\n",
       "    .dataframe tbody tr th {\n",
       "        vertical-align: top;\n",
       "    }\n",
       "\n",
       "    .dataframe thead th {\n",
       "        text-align: right;\n",
       "    }\n",
       "</style>\n",
       "<table border=\"1\" class=\"dataframe\">\n",
       "  <thead>\n",
       "    <tr style=\"text-align: right;\">\n",
       "      <th></th>\n",
       "      <th>0</th>\n",
       "      <th>1</th>\n",
       "    </tr>\n",
       "  </thead>\n",
       "  <tbody>\n",
       "    <tr>\n",
       "      <th>0</th>\n",
       "      <td>SOURCE</td>\n",
       "      <td>found in Lake Erie</td>\n",
       "    </tr>\n",
       "    <tr>\n",
       "      <th>1</th>\n",
       "      <td>SOURCE</td>\n",
       "      <td>hatched in house</td>\n",
       "    </tr>\n",
       "    <tr>\n",
       "      <th>2</th>\n",
       "      <td>SOURCE</td>\n",
       "      <td>found in Lake Erie</td>\n",
       "    </tr>\n",
       "    <tr>\n",
       "      <th>3</th>\n",
       "      <td>SOURCE</td>\n",
       "      <td>hatched in house</td>\n",
       "    </tr>\n",
       "    <tr>\n",
       "      <th>4</th>\n",
       "      <td>SOURCE</td>\n",
       "      <td>surrendered by owner</td>\n",
       "    </tr>\n",
       "    <tr>\n",
       "      <th>5</th>\n",
       "      <td>SOURCE</td>\n",
       "      <td>hatched in house</td>\n",
       "    </tr>\n",
       "    <tr>\n",
       "      <th>6</th>\n",
       "      <td>SOURCE</td>\n",
       "      <td>surrendered by owner</td>\n",
       "    </tr>\n",
       "    <tr>\n",
       "      <th>7</th>\n",
       "      <td>SOURCE</td>\n",
       "      <td>surrendered by owner</td>\n",
       "    </tr>\n",
       "    <tr>\n",
       "      <th>8</th>\n",
       "      <td>SOURCE</td>\n",
       "      <td>found in Lake Erie</td>\n",
       "    </tr>\n",
       "  </tbody>\n",
       "</table>\n",
       "</div>"
      ],
      "text/plain": [
       "        0                      1\n",
       "0  SOURCE     found in Lake Erie\n",
       "1  SOURCE       hatched in house\n",
       "2  SOURCE     found in Lake Erie\n",
       "3  SOURCE       hatched in house\n",
       "4  SOURCE   surrendered by owner\n",
       "5  SOURCE       hatched in house\n",
       "6  SOURCE   surrendered by owner\n",
       "7  SOURCE   surrendered by owner\n",
       "8  SOURCE     found in Lake Erie"
      ]
     },
     "execution_count": 96,
     "metadata": {},
     "output_type": "execute_result"
    }
   ],
   "source": [
    "sex_split = final_df['sex'].str.split(':', expand=True)\n",
    "breed_split = final_df['breed'].str.split(':', expand=True)\n",
    "source_split = final_df['source'].str.split(':', expand=True)\n",
    "\n",
    "print(sex_split)\n",
    "print(breed_split)\n",
    "source_split"
   ]
  },
  {
   "cell_type": "code",
   "execution_count": 97,
   "metadata": {},
   "outputs": [
    {
     "data": {
      "text/html": [
       "<div>\n",
       "<style scoped>\n",
       "    .dataframe tbody tr th:only-of-type {\n",
       "        vertical-align: middle;\n",
       "    }\n",
       "\n",
       "    .dataframe tbody tr th {\n",
       "        vertical-align: top;\n",
       "    }\n",
       "\n",
       "    .dataframe thead th {\n",
       "        text-align: right;\n",
       "    }\n",
       "</style>\n",
       "<table border=\"1\" class=\"dataframe\">\n",
       "  <thead>\n",
       "    <tr style=\"text-align: right;\">\n",
       "      <th></th>\n",
       "      <th>name</th>\n",
       "      <th>age</th>\n",
       "      <th>weight</th>\n",
       "      <th>sex</th>\n",
       "      <th>breed</th>\n",
       "      <th>source</th>\n",
       "    </tr>\n",
       "  </thead>\n",
       "  <tbody>\n",
       "    <tr>\n",
       "      <th>0</th>\n",
       "      <td>Aesop</td>\n",
       "      <td>7.0</td>\n",
       "      <td>6.0</td>\n",
       "      <td>Female</td>\n",
       "      <td>African Aquatic Sideneck Turtle</td>\n",
       "      <td>found in Lake Erie</td>\n",
       "    </tr>\n",
       "    <tr>\n",
       "      <th>1</th>\n",
       "      <td>Caesar</td>\n",
       "      <td>2.0</td>\n",
       "      <td>4.0</td>\n",
       "      <td>Male</td>\n",
       "      <td>Greek Tortoise</td>\n",
       "      <td>hatched in house</td>\n",
       "    </tr>\n",
       "    <tr>\n",
       "      <th>2</th>\n",
       "      <td>Sulla</td>\n",
       "      <td>1.0</td>\n",
       "      <td>1.0</td>\n",
       "      <td>Male</td>\n",
       "      <td>African Aquatic Sideneck Turtle</td>\n",
       "      <td>found in Lake Erie</td>\n",
       "    </tr>\n",
       "    <tr>\n",
       "      <th>3</th>\n",
       "      <td>Spyro</td>\n",
       "      <td>6.0</td>\n",
       "      <td>3.0</td>\n",
       "      <td>Female</td>\n",
       "      <td>Greek Tortoise</td>\n",
       "      <td>hatched in house</td>\n",
       "    </tr>\n",
       "    <tr>\n",
       "      <th>4</th>\n",
       "      <td>Zelda</td>\n",
       "      <td>3.0</td>\n",
       "      <td>2.0</td>\n",
       "      <td>Female</td>\n",
       "      <td>Eastern Box Turtle</td>\n",
       "      <td>surrendered by owner</td>\n",
       "    </tr>\n",
       "    <tr>\n",
       "      <th>5</th>\n",
       "      <td>Bandicoot</td>\n",
       "      <td>2.0</td>\n",
       "      <td>2.0</td>\n",
       "      <td>Male</td>\n",
       "      <td>African Aquatic Sideneck Turtle</td>\n",
       "      <td>hatched in house</td>\n",
       "    </tr>\n",
       "    <tr>\n",
       "      <th>6</th>\n",
       "      <td>Hal</td>\n",
       "      <td>1.0</td>\n",
       "      <td>1.5</td>\n",
       "      <td>Female</td>\n",
       "      <td>Eastern Box Turtle</td>\n",
       "      <td>surrendered by owner</td>\n",
       "    </tr>\n",
       "    <tr>\n",
       "      <th>7</th>\n",
       "      <td>Mock</td>\n",
       "      <td>10.0</td>\n",
       "      <td>10.0</td>\n",
       "      <td>Male</td>\n",
       "      <td>Greek Tortoise</td>\n",
       "      <td>surrendered by owner</td>\n",
       "    </tr>\n",
       "    <tr>\n",
       "      <th>8</th>\n",
       "      <td>Sparrow</td>\n",
       "      <td>1.5</td>\n",
       "      <td>4.5</td>\n",
       "      <td>Female</td>\n",
       "      <td>African Aquatic Sideneck Turtle</td>\n",
       "      <td>found in Lake Erie</td>\n",
       "    </tr>\n",
       "  </tbody>\n",
       "</table>\n",
       "</div>"
      ],
      "text/plain": [
       "        name   age  weight      sex                             breed  \\\n",
       "0      Aesop   7.0     6.0   Female   African Aquatic Sideneck Turtle   \n",
       "1     Caesar   2.0     4.0     Male                    Greek Tortoise   \n",
       "2      Sulla   1.0     1.0     Male   African Aquatic Sideneck Turtle   \n",
       "3      Spyro   6.0     3.0   Female                    Greek Tortoise   \n",
       "4      Zelda   3.0     2.0   Female                Eastern Box Turtle   \n",
       "5  Bandicoot   2.0     2.0     Male   African Aquatic Sideneck Turtle   \n",
       "6        Hal   1.0     1.5   Female                Eastern Box Turtle   \n",
       "7       Mock  10.0    10.0     Male                    Greek Tortoise   \n",
       "8    Sparrow   1.5     4.5   Female   African Aquatic Sideneck Turtle   \n",
       "\n",
       "                  source  \n",
       "0     found in Lake Erie  \n",
       "1       hatched in house  \n",
       "2     found in Lake Erie  \n",
       "3       hatched in house  \n",
       "4   surrendered by owner  \n",
       "5       hatched in house  \n",
       "6   surrendered by owner  \n",
       "7   surrendered by owner  \n",
       "8     found in Lake Erie  "
      ]
     },
     "execution_count": 97,
     "metadata": {},
     "output_type": "execute_result"
    }
   ],
   "source": [
    "final_df['sex'] = sex_split.get(1)\n",
    "final_df['breed'] = breed_split.get(1)\n",
    "final_df['source'] = source_split.get(1)\n",
    "\n",
    "final_df"
   ]
  },
  {
   "cell_type": "code",
   "execution_count": 102,
   "metadata": {},
   "outputs": [
    {
     "name": "stdout",
     "output_type": "stream",
     "text": [
      "THANK YOU!\n"
     ]
    }
   ],
   "source": [
    "print(\"THANK YOU!\")\n",
    "\n"
   ]
  }
 ],
 "metadata": {
  "kernelspec": {
   "display_name": "Python 3",
   "language": "python",
   "name": "python3"
  },
  "language_info": {
   "codemirror_mode": {
    "name": "ipython",
    "version": 3
   },
   "file_extension": ".py",
   "mimetype": "text/x-python",
   "name": "python",
   "nbconvert_exporter": "python",
   "pygments_lexer": "ipython3",
   "version": "3.7.3"
  }
 },
 "nbformat": 4,
 "nbformat_minor": 2
}
